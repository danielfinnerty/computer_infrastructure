{
 "cells": [
  {
   "cell_type": "markdown",
   "id": "b839328c",
   "metadata": {},
   "source": [
    "# Module Assessment"
   ]
  },
  {
   "cell_type": "markdown",
   "id": "16517918",
   "metadata": {},
   "source": [
    "### Setup"
   ]
  },
  {
   "cell_type": "markdown",
   "id": "6f64d6ac",
   "metadata": {},
   "source": [
    "Import required packages for effective operation of notebook"
   ]
  },
  {
   "cell_type": "code",
   "execution_count": 4,
   "id": "b28ee416",
   "metadata": {},
   "outputs": [],
   "source": [
    "# Yahoo finance data - yFinance (https://github.com/ranaroussi/yfinance)\n",
    "import yfinance as yf"
   ]
  },
  {
   "cell_type": "markdown",
   "id": "b0c11912",
   "metadata": {},
   "source": [
    "### Assessment Tasks"
   ]
  },
  {
   "cell_type": "markdown",
   "id": "fdca3f01",
   "metadata": {},
   "source": [
    "1. Write function to download previous 5 days for teh FAANG stocks\n",
    "2. Plot the data for each stock\n",
    "3. Write faang.py script to perform task 1 and 2\n",
    "4. Create GitHub Actions workflow to run script faang.yml every Saturday morninng"
   ]
  },
  {
   "cell_type": "markdown",
   "id": "aec22aa4",
   "metadata": {},
   "source": [
    "# End"
   ]
  }
 ],
 "metadata": {
  "kernelspec": {
   "display_name": "Python 3",
   "language": "python",
   "name": "python3"
  },
  "language_info": {
   "codemirror_mode": {
    "name": "ipython",
    "version": 3
   },
   "file_extension": ".py",
   "mimetype": "text/x-python",
   "name": "python",
   "nbconvert_exporter": "python",
   "pygments_lexer": "ipython3",
   "version": "3.12.1"
  }
 },
 "nbformat": 4,
 "nbformat_minor": 5
}
