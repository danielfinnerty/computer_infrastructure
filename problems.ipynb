{
 "cells": [
  {
   "cell_type": "markdown",
   "id": "b839328c",
   "metadata": {},
   "source": [
    "# Module Assessment"
   ]
  },
  {
   "cell_type": "markdown",
   "id": "16517918",
   "metadata": {},
   "source": [
    "### Setup"
   ]
  },
  {
   "cell_type": "markdown",
   "id": "6f64d6ac",
   "metadata": {},
   "source": [
    "Import required packages for effective operation of notebook"
   ]
  },
  {
   "cell_type": "markdown",
   "id": "b0c11912",
   "metadata": {},
   "source": [
    "### Assessment Tasks"
   ]
  },
  {
   "cell_type": "markdown",
   "id": "fdca3f01",
   "metadata": {},
   "source": [
    "1. Write function to download previous 5 days for teh FAANG stocks\n",
    "2. Plot the data for each stock\n",
    "3. Write faang.py script to perform task 1 and 2\n",
    "4. Create GitHub Actions workflow to run script faang.yml every Saturday morninng"
   ]
  },
  {
   "cell_type": "markdown",
   "id": "aec22aa4",
   "metadata": {},
   "source": [
    "# End"
   ]
  }
 ],
 "metadata": {
  "language_info": {
   "name": "python"
  }
 },
 "nbformat": 4,
 "nbformat_minor": 5
}
