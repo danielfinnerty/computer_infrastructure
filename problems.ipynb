{
 "cells": [
  {
   "cell_type": "markdown",
   "id": "b839328c",
   "metadata": {},
   "source": [
    "# Module Assessment"
   ]
  },
  {
   "cell_type": "markdown",
   "id": "16517918",
   "metadata": {},
   "source": [
    "### Setup"
   ]
  },
  {
   "cell_type": "markdown",
   "id": "6f64d6ac",
   "metadata": {},
   "source": [
    "Import required packages for effective operation of notebook"
   ]
  },
  {
   "cell_type": "code",
   "execution_count": 32,
   "id": "b28ee416",
   "metadata": {},
   "outputs": [],
   "source": [
    "# Dates and times\n",
    "import datetime as dt\n",
    "\n",
    "# Data frames\n",
    "import pandas as pd\n",
    "\n",
    "# Yahoo finance data - yFinance (https://github.com/ranaroussi/yfinance)\n",
    "import yfinance as yf\n",
    "\n",
    "# Plots\n",
    "import numpy as np\n",
    "\n",
    "# IPython\n"
   ]
  },
  {
   "cell_type": "markdown",
   "id": "b0c11912",
   "metadata": {},
   "source": [
    "### Assessment Tasks"
   ]
  },
  {
   "cell_type": "markdown",
   "id": "fdca3f01",
   "metadata": {},
   "source": [
    "1. Write a function titled get_data() to download previous 5 days for the FAANG stocks\n",
    "2. Plot the data for each stock\n",
    "3. Write faang.py script to perform task 1 and 2\n",
    "4. Create GitHub Actions workflow to run script faang.yml every Saturday morninng"
   ]
  },
  {
   "cell_type": "markdown",
   "id": "d17371c9",
   "metadata": {},
   "source": [
    "#### 1. Funtion Creation"
   ]
  },
  {
   "cell_type": "markdown",
   "id": "7b263673",
   "metadata": {},
   "source": [
    "To create the 'get_data' function, '''yf.download''' will be used, with certain parameters specified, to align with the 5 day look back."
   ]
  },
  {
   "cell_type": "code",
   "execution_count": 33,
   "id": "3283ab94",
   "metadata": {},
   "outputs": [
    {
     "name": "stderr",
     "output_type": "stream",
     "text": [
      "/tmp/ipykernel_5120/3182249325.py:4: FutureWarning: YF.download() has changed argument auto_adjust default to True\n",
      "  data_pull = yf.download(['META', 'AAPL', 'AMZN', 'NFLX', 'GOOG'], period= '5d', interval= '1h')\n",
      "[*********************100%***********************]  5 of 5 completed\n"
     ]
    },
    {
     "data": {
      "text/html": [
       "<div>\n",
       "<style scoped>\n",
       "    .dataframe tbody tr th:only-of-type {\n",
       "        vertical-align: middle;\n",
       "    }\n",
       "\n",
       "    .dataframe tbody tr th {\n",
       "        vertical-align: top;\n",
       "    }\n",
       "\n",
       "    .dataframe thead tr th {\n",
       "        text-align: left;\n",
       "    }\n",
       "\n",
       "    .dataframe thead tr:last-of-type th {\n",
       "        text-align: right;\n",
       "    }\n",
       "</style>\n",
       "<table border=\"1\" class=\"dataframe\">\n",
       "  <thead>\n",
       "    <tr>\n",
       "      <th>Price</th>\n",
       "      <th colspan=\"5\" halign=\"left\">Close</th>\n",
       "      <th colspan=\"5\" halign=\"left\">High</th>\n",
       "      <th>...</th>\n",
       "      <th colspan=\"5\" halign=\"left\">Open</th>\n",
       "      <th colspan=\"5\" halign=\"left\">Volume</th>\n",
       "    </tr>\n",
       "    <tr>\n",
       "      <th>Ticker</th>\n",
       "      <th>AAPL</th>\n",
       "      <th>AMZN</th>\n",
       "      <th>GOOG</th>\n",
       "      <th>META</th>\n",
       "      <th>NFLX</th>\n",
       "      <th>AAPL</th>\n",
       "      <th>AMZN</th>\n",
       "      <th>GOOG</th>\n",
       "      <th>META</th>\n",
       "      <th>NFLX</th>\n",
       "      <th>...</th>\n",
       "      <th>AAPL</th>\n",
       "      <th>AMZN</th>\n",
       "      <th>GOOG</th>\n",
       "      <th>META</th>\n",
       "      <th>NFLX</th>\n",
       "      <th>AAPL</th>\n",
       "      <th>AMZN</th>\n",
       "      <th>GOOG</th>\n",
       "      <th>META</th>\n",
       "      <th>NFLX</th>\n",
       "    </tr>\n",
       "    <tr>\n",
       "      <th>Datetime</th>\n",
       "      <th></th>\n",
       "      <th></th>\n",
       "      <th></th>\n",
       "      <th></th>\n",
       "      <th></th>\n",
       "      <th></th>\n",
       "      <th></th>\n",
       "      <th></th>\n",
       "      <th></th>\n",
       "      <th></th>\n",
       "      <th></th>\n",
       "      <th></th>\n",
       "      <th></th>\n",
       "      <th></th>\n",
       "      <th></th>\n",
       "      <th></th>\n",
       "      <th></th>\n",
       "      <th></th>\n",
       "      <th></th>\n",
       "      <th></th>\n",
       "      <th></th>\n",
       "    </tr>\n",
       "  </thead>\n",
       "  <tbody>\n",
       "    <tr>\n",
       "      <th>2025-10-14 13:30:00+00:00</th>\n",
       "      <td>247.020004</td>\n",
       "      <td>216.425003</td>\n",
       "      <td>245.110001</td>\n",
       "      <td>709.898010</td>\n",
       "      <td>1215.109985</td>\n",
       "      <td>247.229996</td>\n",
       "      <td>216.600006</td>\n",
       "      <td>245.240005</td>\n",
       "      <td>710.989990</td>\n",
       "      <td>1215.415039</td>\n",
       "      <td>...</td>\n",
       "      <td>246.615005</td>\n",
       "      <td>215.399994</td>\n",
       "      <td>241.860001</td>\n",
       "      <td>708.000000</td>\n",
       "      <td>1214.750000</td>\n",
       "      <td>6901149</td>\n",
       "      <td>13903268</td>\n",
       "      <td>3262497</td>\n",
       "      <td>2649450</td>\n",
       "      <td>595882</td>\n",
       "    </tr>\n",
       "    <tr>\n",
       "      <th>2025-10-14 14:30:00+00:00</th>\n",
       "      <td>246.214005</td>\n",
       "      <td>216.494995</td>\n",
       "      <td>246.110001</td>\n",
       "      <td>710.890015</td>\n",
       "      <td>1216.020020</td>\n",
       "      <td>247.749893</td>\n",
       "      <td>217.069595</td>\n",
       "      <td>246.600006</td>\n",
       "      <td>712.137329</td>\n",
       "      <td>1222.369995</td>\n",
       "      <td>...</td>\n",
       "      <td>247.000000</td>\n",
       "      <td>216.425003</td>\n",
       "      <td>245.080002</td>\n",
       "      <td>709.809998</td>\n",
       "      <td>1215.130005</td>\n",
       "      <td>3292430</td>\n",
       "      <td>5601692</td>\n",
       "      <td>2556920</td>\n",
       "      <td>744607</td>\n",
       "      <td>266233</td>\n",
       "    </tr>\n",
       "    <tr>\n",
       "      <th>2025-10-14 15:30:00+00:00</th>\n",
       "      <td>247.389999</td>\n",
       "      <td>218.300003</td>\n",
       "      <td>247.464996</td>\n",
       "      <td>712.869995</td>\n",
       "      <td>1222.760010</td>\n",
       "      <td>247.750000</td>\n",
       "      <td>218.499893</td>\n",
       "      <td>248.024002</td>\n",
       "      <td>715.539978</td>\n",
       "      <td>1223.890015</td>\n",
       "      <td>...</td>\n",
       "      <td>246.229996</td>\n",
       "      <td>216.494995</td>\n",
       "      <td>246.149994</td>\n",
       "      <td>710.794983</td>\n",
       "      <td>1216.930054</td>\n",
       "      <td>2724013</td>\n",
       "      <td>3960722</td>\n",
       "      <td>1681124</td>\n",
       "      <td>888374</td>\n",
       "      <td>203833</td>\n",
       "    </tr>\n",
       "    <tr>\n",
       "      <th>2025-10-14 16:30:00+00:00</th>\n",
       "      <td>247.798004</td>\n",
       "      <td>218.919998</td>\n",
       "      <td>247.479996</td>\n",
       "      <td>714.049988</td>\n",
       "      <td>1218.265015</td>\n",
       "      <td>248.035400</td>\n",
       "      <td>219.320007</td>\n",
       "      <td>247.895004</td>\n",
       "      <td>714.945007</td>\n",
       "      <td>1224.289917</td>\n",
       "      <td>...</td>\n",
       "      <td>247.389999</td>\n",
       "      <td>218.289993</td>\n",
       "      <td>247.500000</td>\n",
       "      <td>712.859985</td>\n",
       "      <td>1223.869995</td>\n",
       "      <td>2048766</td>\n",
       "      <td>3463725</td>\n",
       "      <td>1026217</td>\n",
       "      <td>643456</td>\n",
       "      <td>163728</td>\n",
       "    </tr>\n",
       "    <tr>\n",
       "      <th>2025-10-14 17:30:00+00:00</th>\n",
       "      <td>247.485001</td>\n",
       "      <td>217.559998</td>\n",
       "      <td>247.550003</td>\n",
       "      <td>711.210022</td>\n",
       "      <td>1220.010010</td>\n",
       "      <td>247.820007</td>\n",
       "      <td>219.059998</td>\n",
       "      <td>247.649994</td>\n",
       "      <td>714.059998</td>\n",
       "      <td>1222.459961</td>\n",
       "      <td>...</td>\n",
       "      <td>247.809998</td>\n",
       "      <td>218.925003</td>\n",
       "      <td>247.509995</td>\n",
       "      <td>714.059998</td>\n",
       "      <td>1218.219971</td>\n",
       "      <td>2132596</td>\n",
       "      <td>3966278</td>\n",
       "      <td>656961</td>\n",
       "      <td>510481</td>\n",
       "      <td>154383</td>\n",
       "    </tr>\n",
       "  </tbody>\n",
       "</table>\n",
       "<p>5 rows × 25 columns</p>\n",
       "</div>"
      ],
      "text/plain": [
       "Price                           Close                                      \\\n",
       "Ticker                           AAPL        AMZN        GOOG        META   \n",
       "Datetime                                                                    \n",
       "2025-10-14 13:30:00+00:00  247.020004  216.425003  245.110001  709.898010   \n",
       "2025-10-14 14:30:00+00:00  246.214005  216.494995  246.110001  710.890015   \n",
       "2025-10-14 15:30:00+00:00  247.389999  218.300003  247.464996  712.869995   \n",
       "2025-10-14 16:30:00+00:00  247.798004  218.919998  247.479996  714.049988   \n",
       "2025-10-14 17:30:00+00:00  247.485001  217.559998  247.550003  711.210022   \n",
       "\n",
       "Price                                         High                          \\\n",
       "Ticker                            NFLX        AAPL        AMZN        GOOG   \n",
       "Datetime                                                                     \n",
       "2025-10-14 13:30:00+00:00  1215.109985  247.229996  216.600006  245.240005   \n",
       "2025-10-14 14:30:00+00:00  1216.020020  247.749893  217.069595  246.600006   \n",
       "2025-10-14 15:30:00+00:00  1222.760010  247.750000  218.499893  248.024002   \n",
       "2025-10-14 16:30:00+00:00  1218.265015  248.035400  219.320007  247.895004   \n",
       "2025-10-14 17:30:00+00:00  1220.010010  247.820007  219.059998  247.649994   \n",
       "\n",
       "Price                                               ...        Open  \\\n",
       "Ticker                           META         NFLX  ...        AAPL   \n",
       "Datetime                                            ...               \n",
       "2025-10-14 13:30:00+00:00  710.989990  1215.415039  ...  246.615005   \n",
       "2025-10-14 14:30:00+00:00  712.137329  1222.369995  ...  247.000000   \n",
       "2025-10-14 15:30:00+00:00  715.539978  1223.890015  ...  246.229996   \n",
       "2025-10-14 16:30:00+00:00  714.945007  1224.289917  ...  247.389999   \n",
       "2025-10-14 17:30:00+00:00  714.059998  1222.459961  ...  247.809998   \n",
       "\n",
       "Price                                                                       \\\n",
       "Ticker                           AMZN        GOOG        META         NFLX   \n",
       "Datetime                                                                     \n",
       "2025-10-14 13:30:00+00:00  215.399994  241.860001  708.000000  1214.750000   \n",
       "2025-10-14 14:30:00+00:00  216.425003  245.080002  709.809998  1215.130005   \n",
       "2025-10-14 15:30:00+00:00  216.494995  246.149994  710.794983  1216.930054   \n",
       "2025-10-14 16:30:00+00:00  218.289993  247.500000  712.859985  1223.869995   \n",
       "2025-10-14 17:30:00+00:00  218.925003  247.509995  714.059998  1218.219971   \n",
       "\n",
       "Price                       Volume                                      \n",
       "Ticker                        AAPL      AMZN     GOOG     META    NFLX  \n",
       "Datetime                                                                \n",
       "2025-10-14 13:30:00+00:00  6901149  13903268  3262497  2649450  595882  \n",
       "2025-10-14 14:30:00+00:00  3292430   5601692  2556920   744607  266233  \n",
       "2025-10-14 15:30:00+00:00  2724013   3960722  1681124   888374  203833  \n",
       "2025-10-14 16:30:00+00:00  2048766   3463725  1026217   643456  163728  \n",
       "2025-10-14 17:30:00+00:00  2132596   3966278   656961   510481  154383  \n",
       "\n",
       "[5 rows x 25 columns]"
      ]
     },
     "execution_count": 33,
     "metadata": {},
     "output_type": "execute_result"
    }
   ],
   "source": [
    "# Use yf.download to download hourly data over previos 5 days\n",
    "#Source: https://ranaroussi.github.io/yfinance/reference/api/yfinance.download.html#yfinance.download\n",
    "\n",
    "data_pull = yf.download(['META', 'AAPL', 'AMZN', 'NFLX', 'GOOG'], period= '5d', interval= '1h')\n",
    "\n",
    "# Show first 5 lines of the results\n",
    "data_pull.head(5)"
   ]
  },
  {
   "cell_type": "markdown",
   "id": "008d70da",
   "metadata": {},
   "source": [
    "Given the above code can be seen to pull the requested dates; previous 5 days with 1 hour intervals, the following code can then be used to save the information with the required naming convention."
   ]
  },
  {
   "cell_type": "code",
   "execution_count": 34,
   "id": "f9f3a384",
   "metadata": {},
   "outputs": [
    {
     "data": {
      "text/plain": [
       "datetime.datetime(2025, 10, 20, 18, 13, 27, 350583)"
      ]
     },
     "execution_count": 34,
     "metadata": {},
     "output_type": "execute_result"
    }
   ],
   "source": [
    "# Use datetime module to confirm current time.\n",
    "# Source: https://docs.python.org/3/library/datetime.html#format-codes\n",
    "\n",
    "now = dt.datetime.now()\n",
    "\n",
    "# Show output\n",
    "now\n"
   ]
  },
  {
   "cell_type": "markdown",
   "id": "9d2054c5",
   "metadata": {},
   "source": [
    "This now needs to be converted into a string, and can be done so using '''now.strftime'''\n",
    "https://www.w3schools.com/python/python_datetime.asp"
   ]
  },
  {
   "cell_type": "code",
   "execution_count": 35,
   "id": "f284ba17",
   "metadata": {},
   "outputs": [
    {
     "data": {
      "text/plain": [
       "'20251020-181327'"
      ]
     },
     "execution_count": 35,
     "metadata": {},
     "output_type": "execute_result"
    }
   ],
   "source": [
    "# Convert date and time into string specifying:\n",
    "# %Y - for year\n",
    "# %m - for month\n",
    "\n",
    "now.strftime('%Y%m%d-%H%M%S')"
   ]
  },
  {
   "cell_type": "markdown",
   "id": "14dcf7f0",
   "metadata": {},
   "source": [
    "Merging the above 2 codes will generate the exact time the code is ran, and capture it in a string format. "
   ]
  },
  {
   "cell_type": "code",
   "execution_count": null,
   "id": "5c23d5ea",
   "metadata": {},
   "outputs": [
    {
     "data": {
      "text/plain": [
       "'20251020-181327'"
      ]
     },
     "execution_count": 36,
     "metadata": {},
     "output_type": "execute_result"
    }
   ],
   "source": [
    "# Capture date and time code is ran, and present as a string\n",
    "time_stamp = dt.datetime.now().strftime('%Y%m%d-%H%M%S')\n",
    "\n",
    "# Show\n",
    "time_stamp"
   ]
  },
  {
   "cell_type": "markdown",
   "id": "b9418065",
   "metadata": {},
   "source": [
    "This can then be expanded to be used as the filename, along with specifying the location for the file to be saved."
   ]
  },
  {
   "cell_type": "code",
   "execution_count": 37,
   "id": "04969900",
   "metadata": {},
   "outputs": [
    {
     "data": {
      "text/plain": [
       "'../data/20251020-181327.csv'"
      ]
     },
     "execution_count": 37,
     "metadata": {},
     "output_type": "execute_result"
    }
   ],
   "source": [
    "# File location is the 'data' folder, and will be a .csv file.\n",
    "'../data/' + dt.datetime.now().strftime('%Y%m%d-%H%M%S') + '.csv'"
   ]
  },
  {
   "cell_type": "markdown",
   "id": "40975ef2",
   "metadata": {},
   "source": [
    "All can now be pulled together to save the previous 5 days for the given stocks."
   ]
  },
  {
   "cell_type": "code",
   "execution_count": 45,
   "id": "6af06a56",
   "metadata": {},
   "outputs": [
    {
     "name": "stderr",
     "output_type": "stream",
     "text": [
      "/tmp/ipykernel_5120/2966050866.py:5: FutureWarning: YF.download() has changed argument auto_adjust default to True\n",
      "  data_pull = yf.download(['META', 'AAPL', 'AMZN', 'NFLX', 'GOOG'], period= '5d', interval= '1h')\n",
      "[*********************100%***********************]  5 of 5 completed\n"
     ]
    }
   ],
   "source": [
    "# Save download as a .csv file\n",
    "# https://pandas.pydata.org/docs/reference/api/pandas.DataFrame.to_csv.html\n",
    "\n",
    "# Pull previous 5 days of data\n",
    "data_pull = yf.download(['META', 'AAPL', 'AMZN', 'NFLX', 'GOOG'], period= '5d', interval= '1h')\n",
    "\n",
    "# Generate time stamp of when data was pulled\n",
    "time_stamp = dt.datetime.now().strftime('%Y%m%d-%H%M%S')\n",
    "\n",
    "# Save into 'data' folder, titling file with time stamp\n",
    "data_pull.to_csv('data/' + time_stamp + '.csv')"
   ]
  },
  {
   "cell_type": "markdown",
   "id": "aec22aa4",
   "metadata": {},
   "source": [
    "# End"
   ]
  }
 ],
 "metadata": {
  "kernelspec": {
   "display_name": "Python 3",
   "language": "python",
   "name": "python3"
  },
  "language_info": {
   "codemirror_mode": {
    "name": "ipython",
    "version": 3
   },
   "file_extension": ".py",
   "mimetype": "text/x-python",
   "name": "python",
   "nbconvert_exporter": "python",
   "pygments_lexer": "ipython3",
   "version": "3.12.1"
  }
 },
 "nbformat": 4,
 "nbformat_minor": 5
}
